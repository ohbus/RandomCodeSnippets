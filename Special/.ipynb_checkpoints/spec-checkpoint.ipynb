{
 "cells": [
  {
   "cell_type": "markdown",
   "metadata": {},
   "source": [
    "# Doing Shit"
   ]
  },
  {
   "cell_type": "code",
   "execution_count": 5,
   "metadata": {},
   "outputs": [],
   "source": [
    "def findMaxIter(inpList):\n",
    "    for i in range(len(inpList)):\n",
    "        if inpList[i] == max(inpList):\n",
    "            return i"
   ]
  },
  {
   "cell_type": "code",
   "execution_count": 6,
   "metadata": {},
   "outputs": [],
   "source": [
    "def doSomething(a,rotate):\n",
    "    out = []\n",
    "    for i in rotate:\n",
    "        b = a.copy()\n",
    "        for j in range(i):\n",
    "            b.append(b.pop(0))\n",
    "        #out.append(b.index(max(b)))\n",
    "        out.append(findMaxIter(b))\n",
    "    return out"
   ]
  },
  {
   "cell_type": "code",
   "execution_count": 8,
   "metadata": {},
   "outputs": [
    {
     "name": "stdout",
     "output_type": "stream",
     "text": [
      "1 2 3 4 5 6\n",
      "6 9 5 8 4 6 5 4 6 8 9 9 9 9 9 9 5 8 8\n",
      "[5, 2, 0, 3, 1, 5, 0, 1, 5, 3, 2, 2, 2, 2, 2, 2, 0, 3, 3]\n"
     ]
    }
   ],
   "source": [
    "if __name__ == '__main__':\n",
    "    a = list(map(int,input().split()))\n",
    "    rotate = list(map(int,input().split()))\n",
    "    print(doSomething(a,rotate))"
   ]
  },
  {
   "cell_type": "code",
   "execution_count": null,
   "metadata": {},
   "outputs": [],
   "source": []
  }
 ],
 "metadata": {
  "kernelspec": {
   "display_name": "Python 3",
   "language": "python",
   "name": "python3"
  },
  "language_info": {
   "codemirror_mode": {
    "name": "ipython",
    "version": 3
   },
   "file_extension": ".py",
   "mimetype": "text/x-python",
   "name": "python",
   "nbconvert_exporter": "python",
   "pygments_lexer": "ipython3",
   "version": "3.6.5"
  }
 },
 "nbformat": 4,
 "nbformat_minor": 2
}
