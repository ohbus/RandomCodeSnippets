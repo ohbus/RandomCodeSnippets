{
 "cells": [
  {
   "cell_type": "code",
   "execution_count": 12,
   "metadata": {},
   "outputs": [],
   "source": [
    "def makelist(s):\n",
    "    out = []\n",
    "    for i in range(len(s)):\n",
    "        for j in range(i,len(s)):\n",
    "            out.append(s[i:j+1])\n",
    "    out = list(set(map(int,out)))\n",
    "    out.sort()\n",
    "    return out"
   ]
  },
  {
   "cell_type": "code",
   "execution_count": 13,
   "metadata": {},
   "outputs": [
    {
     "data": {
      "text/plain": [
       "[1, 2, 3, 4, 12, 23, 34, 123, 234, 1234]"
      ]
     },
     "execution_count": 13,
     "metadata": {},
     "output_type": "execute_result"
    }
   ],
   "source": [
    "makelist(\"1234\")"
   ]
  },
  {
   "cell_type": "code",
   "execution_count": 63,
   "metadata": {},
   "outputs": [],
   "source": [
    "# I don't remeber the original name. Something like proxi\n",
    "\n",
    "import math\n",
    "\n",
    "def proxi(n):\n",
    "    n = int(n)\n",
    "    if n == 0:\n",
    "        return False\n",
    "    srt = int(math.sqrt(n))\n",
    "    if srt * (srt+1) == n:\n",
    "        return True\n",
    "    return False"
   ]
  },
  {
   "cell_type": "code",
   "execution_count": 64,
   "metadata": {},
   "outputs": [],
   "source": [
    "def outlist(inp):\n",
    "    out = []\n",
    "    stlist = makelist(inp)\n",
    "    for i in stlist:\n",
    "        if proxi(i):\n",
    "            out.append(i)\n",
    "    return out"
   ]
  },
  {
   "cell_type": "code",
   "execution_count": 65,
   "metadata": {},
   "outputs": [
    {
     "name": "stdout",
     "output_type": "stream",
     "text": [
      "1234930\n",
      "2,12,30,930\n"
     ]
    }
   ],
   "source": [
    "if __name__ == '__main__':\n",
    "    instr = input()\n",
    "    res = outlist(instr)\n",
    "    if len(res) == 0:\n",
    "        print(-1)\n",
    "    else:\n",
    "        ns = \"\"\n",
    "        for i in res:\n",
    "            ns += str(i) + \",\"\n",
    "        print(ns[0:len(ns)-1])"
   ]
  }
 ],
 "metadata": {
  "kernelspec": {
   "display_name": "Python 3",
   "language": "python",
   "name": "python3"
  },
  "language_info": {
   "codemirror_mode": {
    "name": "ipython",
    "version": 3
   },
   "file_extension": ".py",
   "mimetype": "text/x-python",
   "name": "python",
   "nbconvert_exporter": "python",
   "pygments_lexer": "ipython3",
   "version": "3.6.9"
  }
 },
 "nbformat": 4,
 "nbformat_minor": 2
}
