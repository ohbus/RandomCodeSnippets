{
 "cells": [
  {
   "cell_type": "markdown",
   "metadata": {},
   "source": [
    "# Sexy Prime \n",
    "\n",
    "## Any set of two number can be a sexy prime number if the differnce between the two numbers are exactly 6\n",
    "\n",
    "### Example : ( 5 , 11 ) and ( 23 , 29 )\n",
    "\n",
    "\n",
    "## Original Constrains : ```Lower Limit - 2``` ; ```Upper Limit - 1,000,000,000```\n",
    "\n",
    "\n",
    "# Input Format : ```a b```\n",
    "### Where ```a``` is the lower limit and ```b``` is the upper limit\n",
    "\n",
    "# Output Format : ```n```\n",
    "### Where ```n``` denotes a numeric value stating the number of sexy prime sets of numbers\n",
    "\n",
    "\n",
    "\n",
    "\n",
    "## Example 0:\n",
    "\n",
    "### Input : ```4 40```\n",
    "### Output : ```7```\n",
    "\n",
    "## Explaination : \n",
    "### Number of sets of sexy prime from 4 to 40 are as follows -\n",
    "- ( 5 , 11 )\n",
    "- ( 7 , 13 )\n",
    "- ( 11 , 17 )\n",
    "- ( 13 , 19 )\n",
    "- ( 17 , 23 )\n",
    "- ( 23 , 29 )\n",
    "- ( 31 , 37 )"
   ]
  },
  {
   "cell_type": "code",
   "execution_count": 1,
   "metadata": {},
   "outputs": [],
   "source": [
    "import math\n",
    "\n",
    "def isPrime(n):\n",
    "    for i in range(2,int(math.sqrt(n))+1):\n",
    "        if n % i == 0:\n",
    "            return False\n",
    "    return True"
   ]
  },
  {
   "cell_type": "code",
   "execution_count": 2,
   "metadata": {},
   "outputs": [
    {
     "name": "stdout",
     "output_type": "stream",
     "text": [
      "4 40\n"
     ]
    }
   ],
   "source": [
    "inp = list(map(int,input().split()))\n",
    "a = inp[0]\n",
    "b = inp[1]"
   ]
  },
  {
   "cell_type": "code",
   "execution_count": 3,
   "metadata": {},
   "outputs": [],
   "source": [
    "def countSexy(a,b):\n",
    "    count = 0\n",
    "    if a % 2 == 0:\n",
    "        a=a+1\n",
    "    for i in range(a,b-5,2):\n",
    "        if isPrime(i) and isPrime(i+6):\n",
    "            count=count+1\n",
    "    print(count)"
   ]
  },
  {
   "cell_type": "code",
   "execution_count": 4,
   "metadata": {},
   "outputs": [
    {
     "name": "stdout",
     "output_type": "stream",
     "text": [
      "7\n"
     ]
    }
   ],
   "source": [
    "countSexy(a,b)"
   ]
  }
 ],
 "metadata": {
  "kernelspec": {
   "display_name": "Python 3",
   "language": "python",
   "name": "python3"
  },
  "language_info": {
   "codemirror_mode": {
    "name": "ipython",
    "version": 3
   },
   "file_extension": ".py",
   "mimetype": "text/x-python",
   "name": "python",
   "nbconvert_exporter": "python",
   "pygments_lexer": "ipython3",
   "version": "3.6.9"
  }
 },
 "nbformat": 4,
 "nbformat_minor": 2
}
